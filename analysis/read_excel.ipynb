{
 "cells": [
  {
   "cell_type": "markdown",
   "id": "d7cce7f1",
   "metadata": {},
   "source": [
    "# Convert Python Script to Jupyter Notebook\n",
    "This notebook demonstrates how to convert a Python script for reading an Excel file into a Jupyter notebook. It outlines the steps, verifies code cells, and tests the notebook output."
   ]
  },
  {
   "cell_type": "markdown",
   "id": "bcaff1ec",
   "metadata": {},
   "source": [
    "## Verify Code Cells\n",
    "Each code block from the original script is placed in its own cell below. You can run each cell independently to verify its output."
   ]
  },
  {
   "cell_type": "code",
   "execution_count": 6,
   "id": "93778f25",
   "metadata": {},
   "outputs": [
    {
     "name": "stdout",
     "output_type": "stream",
     "text": [
      "Collecting pandas\n",
      "  Using cached pandas-2.3.3-cp313-cp313-macosx_11_0_arm64.whl.metadata (91 kB)\n",
      "Collecting matplotlib\n",
      "  Using cached matplotlib-3.10.7-cp313-cp313-macosx_11_0_arm64.whl.metadata (11 kB)\n",
      "Collecting numpy>=1.26.0 (from pandas)\n",
      "  Downloading numpy-2.3.4-cp313-cp313-macosx_14_0_arm64.whl.metadata (62 kB)\n",
      "Requirement already satisfied: python-dateutil>=2.8.2 in /Users/chaiyong/Downloads/do_not_delete/Matcha_Study/SOPostProcessor/.venv/lib/python3.13/site-packages (from pandas) (2.9.0.post0)\n",
      "Collecting pytz>=2020.1 (from pandas)\n",
      "  Using cached pytz-2025.2-py2.py3-none-any.whl.metadata (22 kB)\n",
      "Collecting tzdata>=2022.7 (from pandas)\n",
      "  Using cached tzdata-2025.2-py2.py3-none-any.whl.metadata (1.4 kB)\n",
      "Collecting contourpy>=1.0.1 (from matplotlib)\n",
      "  Using cached contourpy-1.3.3-cp313-cp313-macosx_11_0_arm64.whl.metadata (5.5 kB)\n",
      "Collecting cycler>=0.10 (from matplotlib)\n",
      "  Using cached cycler-0.12.1-py3-none-any.whl.metadata (3.8 kB)\n",
      "Collecting fonttools>=4.22.0 (from matplotlib)\n",
      "  Using cached fonttools-4.60.1-cp313-cp313-macosx_10_13_universal2.whl.metadata (112 kB)\n",
      "Collecting kiwisolver>=1.3.1 (from matplotlib)\n",
      "  Using cached kiwisolver-1.4.9-cp313-cp313-macosx_11_0_arm64.whl.metadata (6.3 kB)\n",
      "Requirement already satisfied: packaging>=20.0 in /Users/chaiyong/Downloads/do_not_delete/Matcha_Study/SOPostProcessor/.venv/lib/python3.13/site-packages (from matplotlib) (25.0)\n",
      "Collecting pillow>=8 (from matplotlib)\n",
      "  Downloading pillow-12.0.0-cp313-cp313-macosx_11_0_arm64.whl.metadata (8.8 kB)\n",
      "Collecting pyparsing>=3 (from matplotlib)\n",
      "  Using cached pyparsing-3.2.5-py3-none-any.whl.metadata (5.0 kB)\n",
      "Requirement already satisfied: six>=1.5 in /Users/chaiyong/Downloads/do_not_delete/Matcha_Study/SOPostProcessor/.venv/lib/python3.13/site-packages (from python-dateutil>=2.8.2->pandas) (1.17.0)\n",
      "Using cached pandas-2.3.3-cp313-cp313-macosx_11_0_arm64.whl (10.7 MB)\n",
      "Using cached matplotlib-3.10.7-cp313-cp313-macosx_11_0_arm64.whl (8.1 MB)\n",
      "Using cached contourpy-1.3.3-cp313-cp313-macosx_11_0_arm64.whl (274 kB)\n",
      "Using cached cycler-0.12.1-py3-none-any.whl (8.3 kB)\n",
      "Using cached fonttools-4.60.1-cp313-cp313-macosx_10_13_universal2.whl (2.8 MB)\n",
      "Using cached kiwisolver-1.4.9-cp313-cp313-macosx_11_0_arm64.whl (64 kB)\n",
      "Downloading numpy-2.3.4-cp313-cp313-macosx_14_0_arm64.whl (5.1 MB)\n",
      "\u001b[2K   \u001b[90m━━━━━━━━━━━━━━━━━━━━━━━━━━━━━━━━━━━━━━━━\u001b[0m \u001b[32m5.1/5.1 MB\u001b[0m \u001b[31m10.8 MB/s\u001b[0m  \u001b[33m0:00:00\u001b[0m eta \u001b[36m0:00:01\u001b[0m\n",
      "\u001b[?25hDownloading pillow-12.0.0-cp313-cp313-macosx_11_0_arm64.whl (4.7 MB)\n",
      "\u001b[2K   \u001b[90m━━━━━━━━━━━━━━━━━━━━━━━━━━━━━━━━━━━━━━━━\u001b[0m \u001b[32m4.7/4.7 MB\u001b[0m \u001b[31m10.5 MB/s\u001b[0m  \u001b[33m0:00:00\u001b[0m eta \u001b[36m0:00:01\u001b[0m\n",
      "\u001b[?25hUsing cached pyparsing-3.2.5-py3-none-any.whl (113 kB)\n",
      "Using cached pytz-2025.2-py2.py3-none-any.whl (509 kB)\n",
      "Using cached tzdata-2025.2-py2.py3-none-any.whl (347 kB)\n",
      "Installing collected packages: pytz, tzdata, pyparsing, pillow, numpy, kiwisolver, fonttools, cycler, pandas, contourpy, matplotlib\n",
      "\u001b[2K   \u001b[90m━━━━━━━━━━━━━━━━━━━━━━━━━━━━━━━━━━━━━━━━\u001b[0m \u001b[32m11/11\u001b[0m [matplotlib]1\u001b[0m [matplotlib]\n",
      "\u001b[1A\u001b[2KSuccessfully installed contourpy-1.3.3 cycler-0.12.1 fonttools-4.60.1 kiwisolver-1.4.9 matplotlib-3.10.7 numpy-2.3.4 pandas-2.3.3 pillow-12.0.0 pyparsing-3.2.5 pytz-2025.2 tzdata-2025.2\n"
     ]
    }
   ],
   "source": [
    "!pip install pandas matplotlib"
   ]
  },
  {
   "cell_type": "code",
   "execution_count": 7,
   "id": "628ae2a4",
   "metadata": {},
   "outputs": [],
   "source": [
    "# Import required libraries\n",
    "import pandas as pd\n",
    "import matplotlib.pyplot as plt"
   ]
  },
  {
   "cell_type": "code",
   "execution_count": 9,
   "id": "8caae821",
   "metadata": {},
   "outputs": [
    {
     "name": "stdout",
     "output_type": "stream",
     "text": [
      "CSV file loaded successfully.\n"
     ]
    },
    {
     "data": {
      "text/html": [
       "<div>\n",
       "<style scoped>\n",
       "    .dataframe tbody tr th:only-of-type {\n",
       "        vertical-align: middle;\n",
       "    }\n",
       "\n",
       "    .dataframe tbody tr th {\n",
       "        vertical-align: top;\n",
       "    }\n",
       "\n",
       "    .dataframe thead th {\n",
       "        text-align: right;\n",
       "    }\n",
       "</style>\n",
       "<table border=\"1\" class=\"dataframe\">\n",
       "  <thead>\n",
       "    <tr style=\"text-align: right;\">\n",
       "      <th></th>\n",
       "      <th>project_name</th>\n",
       "      <th>isFork</th>\n",
       "      <th>commits</th>\n",
       "      <th>branches</th>\n",
       "      <th>defaultBranch</th>\n",
       "      <th>releases</th>\n",
       "      <th>contributors</th>\n",
       "      <th>license</th>\n",
       "      <th>watchers</th>\n",
       "      <th>stargazers</th>\n",
       "      <th>...</th>\n",
       "      <th>lastCommit</th>\n",
       "      <th>lastCommitSHA</th>\n",
       "      <th>hasWiki</th>\n",
       "      <th>isArchived</th>\n",
       "      <th>stars_region</th>\n",
       "      <th>forks_region</th>\n",
       "      <th>watchers_region</th>\n",
       "      <th>bugfix</th>\n",
       "      <th>improvingcode</th>\n",
       "      <th>subtype</th>\n",
       "    </tr>\n",
       "  </thead>\n",
       "  <tbody>\n",
       "    <tr>\n",
       "      <th>0</th>\n",
       "      <td>raykrueger/hibernate-memcached</td>\n",
       "      <td>False</td>\n",
       "      <td>142</td>\n",
       "      <td>5</td>\n",
       "      <td>master</td>\n",
       "      <td>0</td>\n",
       "      <td>5.0</td>\n",
       "      <td>Apache License 2.0</td>\n",
       "      <td>26</td>\n",
       "      <td>111</td>\n",
       "      <td>...</td>\n",
       "      <td>2015-03-24T01:05:50</td>\n",
       "      <td>638dd68a70a7d11b14a8c98254db8cbe1b146ed9</td>\n",
       "      <td>True</td>\n",
       "      <td>True</td>\n",
       "      <td>2</td>\n",
       "      <td>2</td>\n",
       "      <td>2</td>\n",
       "      <td>0</td>\n",
       "      <td>0</td>\n",
       "      <td>NaN</td>\n",
       "    </tr>\n",
       "    <tr>\n",
       "      <th>1</th>\n",
       "      <td>mhroth/jvsthost</td>\n",
       "      <td>False</td>\n",
       "      <td>160</td>\n",
       "      <td>2</td>\n",
       "      <td>master</td>\n",
       "      <td>0</td>\n",
       "      <td>3.0</td>\n",
       "      <td>GNU Lesser General Public License v3.0</td>\n",
       "      <td>15</td>\n",
       "      <td>73</td>\n",
       "      <td>...</td>\n",
       "      <td>2012-06-14T08:02:18</td>\n",
       "      <td>0944bf84db9cc5bdac32c2ee4b6de8a43d8e6a0a</td>\n",
       "      <td>True</td>\n",
       "      <td>False</td>\n",
       "      <td>2</td>\n",
       "      <td>2</td>\n",
       "      <td>2</td>\n",
       "      <td>0</td>\n",
       "      <td>0</td>\n",
       "      <td>NaN</td>\n",
       "    </tr>\n",
       "    <tr>\n",
       "      <th>2</th>\n",
       "      <td>junit-team/junit4</td>\n",
       "      <td>False</td>\n",
       "      <td>2506</td>\n",
       "      <td>5</td>\n",
       "      <td>main</td>\n",
       "      <td>13</td>\n",
       "      <td>146.0</td>\n",
       "      <td>Eclipse Public License 1.0</td>\n",
       "      <td>593</td>\n",
       "      <td>8408</td>\n",
       "      <td>...</td>\n",
       "      <td>2023-02-07T03:44:22</td>\n",
       "      <td>e50487c97a8ae9a3168df89751457ba4cfab4d2a</td>\n",
       "      <td>True</td>\n",
       "      <td>False</td>\n",
       "      <td>3</td>\n",
       "      <td>3</td>\n",
       "      <td>3</td>\n",
       "      <td>0</td>\n",
       "      <td>0</td>\n",
       "      <td>NaN</td>\n",
       "    </tr>\n",
       "    <tr>\n",
       "      <th>3</th>\n",
       "      <td>yui/yuicompressor</td>\n",
       "      <td>False</td>\n",
       "      <td>513</td>\n",
       "      <td>2</td>\n",
       "      <td>master</td>\n",
       "      <td>42</td>\n",
       "      <td>42.0</td>\n",
       "      <td>Other</td>\n",
       "      <td>188</td>\n",
       "      <td>2917</td>\n",
       "      <td>...</td>\n",
       "      <td>2019-05-22T12:01:00</td>\n",
       "      <td>cf0497e53fffe4ddbd50e71518c40e0c07d120de</td>\n",
       "      <td>False</td>\n",
       "      <td>False</td>\n",
       "      <td>3</td>\n",
       "      <td>3</td>\n",
       "      <td>3</td>\n",
       "      <td>0</td>\n",
       "      <td>0</td>\n",
       "      <td>NaN</td>\n",
       "    </tr>\n",
       "    <tr>\n",
       "      <th>4</th>\n",
       "      <td>unclebob/fitnesse</td>\n",
       "      <td>False</td>\n",
       "      <td>6017</td>\n",
       "      <td>4</td>\n",
       "      <td>master</td>\n",
       "      <td>6</td>\n",
       "      <td>110.0</td>\n",
       "      <td>Other</td>\n",
       "      <td>155</td>\n",
       "      <td>1884</td>\n",
       "      <td>...</td>\n",
       "      <td>2023-01-30T03:38:59</td>\n",
       "      <td>d45dff8ebc30f0c0f883d6bcfdcf9ac2ef8b5bd1</td>\n",
       "      <td>True</td>\n",
       "      <td>False</td>\n",
       "      <td>3</td>\n",
       "      <td>3</td>\n",
       "      <td>3</td>\n",
       "      <td>0</td>\n",
       "      <td>0</td>\n",
       "      <td>NaN</td>\n",
       "    </tr>\n",
       "  </tbody>\n",
       "</table>\n",
       "<p>5 rows × 31 columns</p>\n",
       "</div>"
      ],
      "text/plain": [
       "                     project_name  isFork  commits  branches defaultBranch  \\\n",
       "0  raykrueger/hibernate-memcached   False      142         5        master   \n",
       "1                 mhroth/jvsthost   False      160         2        master   \n",
       "2               junit-team/junit4   False     2506         5          main   \n",
       "3               yui/yuicompressor   False      513         2        master   \n",
       "4               unclebob/fitnesse   False     6017         4        master   \n",
       "\n",
       "   releases  contributors                                 license  watchers  \\\n",
       "0         0           5.0                      Apache License 2.0        26   \n",
       "1         0           3.0  GNU Lesser General Public License v3.0        15   \n",
       "2        13         146.0              Eclipse Public License 1.0       593   \n",
       "3        42          42.0                                   Other       188   \n",
       "4         6         110.0                                   Other       155   \n",
       "\n",
       "   stargazers  ...           lastCommit  \\\n",
       "0         111  ...  2015-03-24T01:05:50   \n",
       "1          73  ...  2012-06-14T08:02:18   \n",
       "2        8408  ...  2023-02-07T03:44:22   \n",
       "3        2917  ...  2019-05-22T12:01:00   \n",
       "4        1884  ...  2023-01-30T03:38:59   \n",
       "\n",
       "                              lastCommitSHA hasWiki isArchived stars_region  \\\n",
       "0  638dd68a70a7d11b14a8c98254db8cbe1b146ed9    True       True            2   \n",
       "1  0944bf84db9cc5bdac32c2ee4b6de8a43d8e6a0a    True      False            2   \n",
       "2  e50487c97a8ae9a3168df89751457ba4cfab4d2a    True      False            3   \n",
       "3  cf0497e53fffe4ddbd50e71518c40e0c07d120de   False      False            3   \n",
       "4  d45dff8ebc30f0c0f883d6bcfdcf9ac2ef8b5bd1    True      False            3   \n",
       "\n",
       "  forks_region watchers_region  bugfix  improvingcode  subtype  \n",
       "0            2               2       0              0      NaN  \n",
       "1            2               2       0              0      NaN  \n",
       "2            3               3       0              0      NaN  \n",
       "3            3               3       0              0      NaN  \n",
       "4            3               3       0              0      NaN  \n",
       "\n",
       "[5 rows x 31 columns]"
      ]
     },
     "metadata": {},
     "output_type": "display_data"
    }
   ],
   "source": [
    "# Read the CSV file and display the first few rows\n",
    "csv_path = \"GH_selection_revise_FIXED.csv\"\n",
    "try:\n",
    "    df = pd.read_csv(csv_path)\n",
    "    print(\"CSV file loaded successfully.\")\n",
    "    display(df.head())\n",
    "except Exception as e:\n",
    "    print(f\"Error reading the CSV file: {e}\")"
   ]
  },
  {
   "cell_type": "markdown",
   "id": "340c7cc7",
   "metadata": {},
   "source": [
    "# Basic Stats"
   ]
  },
  {
   "cell_type": "code",
   "execution_count": 10,
   "id": "4ead842d",
   "metadata": {},
   "outputs": [
    {
     "name": "stdout",
     "output_type": "stream",
     "text": [
      "Bugfix Statistics:\n",
      "count    10673.000000\n",
      "mean         0.005341\n",
      "std          0.138494\n",
      "min          0.000000\n",
      "25%          0.000000\n",
      "50%          0.000000\n",
      "75%          0.000000\n",
      "max         12.000000\n",
      "Name: bugfix, dtype: float64\n",
      "\n",
      "Improving Code Statistics:\n",
      "count    10673.000000\n",
      "mean         0.031294\n",
      "std          0.327058\n",
      "min          0.000000\n",
      "25%          0.000000\n",
      "50%          0.000000\n",
      "75%          0.000000\n",
      "max         10.000000\n",
      "Name: improvingcode, dtype: float64\n"
     ]
    }
   ],
   "source": [
    "# Basic statistics for 'bugfix' and 'improvingcode' columns\n",
    "bugfix_stats = df['bugfix'].describe()\n",
    "improvingcode_stats = df['improvingcode'].describe()\n",
    "\n",
    "print(\"Bugfix Statistics:\")\n",
    "print(bugfix_stats)\n",
    "print(\"\\nImproving Code Statistics:\")\n",
    "print(improvingcode_stats)"
   ]
  },
  {
   "cell_type": "markdown",
   "id": "87c88195",
   "metadata": {},
   "source": [
    "### Calculate the number of \"Bug Fix\" and \"Improving Code\" Recommendations Per GH Group"
   ]
  },
  {
   "cell_type": "code",
   "execution_count": 11,
   "id": "b0aa82a7",
   "metadata": {
    "vscode": {
     "languageId": "ruby"
    }
   },
   "outputs": [
    {
     "name": "stdout",
     "output_type": "stream",
     "text": [
      "                                           bugfix  improvingcode\n",
      "stars_region forks_region watchers_region                       \n",
      "1            1            1                     5             39\n",
      "2            2            2                    15            122\n",
      "3            3            3                    37            173\n"
     ]
    }
   ],
   "source": [
    "grouped_df = df.groupby(['stars_region', 'forks_region', 'watchers_region'])\n",
    "group_sums = grouped_df[['bugfix', 'improvingcode']].sum()\n",
    "print(group_sums)"
   ]
  },
  {
   "cell_type": "markdown",
   "id": "e364552a",
   "metadata": {},
   "source": [
    "### Count the number of projects in each group"
   ]
  },
  {
   "cell_type": "code",
   "execution_count": 12,
   "id": "7c8a4f9d",
   "metadata": {},
   "outputs": [
    {
     "name": "stdout",
     "output_type": "stream",
     "text": [
      "stars_region  forks_region  watchers_region\n",
      "1             1             1                  2103\n",
      "2             2             2                  5073\n",
      "3             3             3                  3497\n",
      "dtype: int64\n"
     ]
    }
   ],
   "source": [
    "group_counts = grouped_df.size()\n",
    "print(group_counts)"
   ]
  },
  {
   "cell_type": "markdown",
   "id": "dd018b29",
   "metadata": {},
   "source": [
    "# Plot a Graph"
   ]
  },
  {
   "cell_type": "code",
   "execution_count": 14,
   "id": "60f3c9ca",
   "metadata": {},
   "outputs": [
    {
     "data": {
      "image/png": "[encoded data removed]",
      "text/plain": [
       "<Figure size 1000x600 with 1 Axes>"
      ]
     },
     "metadata": {},
     "output_type": "display_data"
    }
   ],
   "source": [
    "# Set default font size\n",
    "plt.rcParams.update({'font.size': 14})\n",
    "\n",
    "# Plot bar chart in grayscale\n",
    "ax = group_sums.plot(\n",
    "    kind='bar',\n",
    "    figsize=(10, 6),\n",
    "    color=['#4d4d4d', '#b3b3b3'],  # two shades of gray\n",
    "    edgecolor='black'\n",
    ")\n",
    "\n",
    "ax.set_ylabel('Count', fontsize=14)\n",
    "ax.set_xlabel('GitHub Project Groups', fontsize=14)\n",
    "# ax.set_title('Number of Code Recommendations Per GitHub Group', fontsize=14)\n",
    "ax.set_xticklabels(['Low-popularity', 'Medium-popularity', 'High-popularity'], rotation=0, fontsize=12)\n",
    "ax.legend(['Fixing Bug', 'Improving Code'], fontsize=14)\n",
    "\n",
    "# Add value labels on bars\n",
    "for p in ax.patches:\n",
    "    ax.annotate(\n",
    "        str(int(p.get_height())),\n",
    "        (p.get_x() + p.get_width() / 2, p.get_height()),\n",
    "        ha='center', va='bottom', fontsize=14\n",
    "    )\n",
    "\n",
    "plt.yticks(fontsize=14)\n",
    "plt.tight_layout()\n",
    "\n",
    "# Save as PDF\n",
    "plt.savefig(\"github_groups_chart_greyscale.pdf\", format=\"pdf\", bbox_inches='tight')\n",
    "plt.show()"
   ]
  }
 ],
 "metadata": {
  "kernelspec": {
   "display_name": ".venv",
   "language": "python",
   "name": "python3"
  },
  "language_info": {
   "codemirror_mode": {
    "name": "ipython",
    "version": 3
   },
   "file_extension": ".py",
   "mimetype": "text/x-python",
   "name": "python",
   "nbconvert_exporter": "python",
   "pygments_lexer": "ipython3",
   "version": "3.13.0"
  }
 },
 "nbformat": 4,
 "nbformat_minor": 5
}
